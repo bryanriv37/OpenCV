{
 "cells": [
  {
   "cell_type": "markdown",
   "metadata": {},
   "source": [
    "# TAREA 1 OPEN CV"
   ]
  },
  {
   "cell_type": "markdown",
   "metadata": {},
   "source": [
    " Nombre: Bryan Rivadeneira                                     \n",
    " Fecha: 18/11/2020"
   ]
  },
  {
   "cell_type": "markdown",
   "metadata": {},
   "source": [
    "#### Realizar un ejercicio capturando eventos con el mouse donde se pulse el Botón izquierdo dibuje un circulo, pulsamos el botón derecho dibuja un rectángulo"
   ]
  },
  {
   "cell_type": "code",
   "execution_count": 48,
   "metadata": {},
   "outputs": [],
   "source": [
    "import numpy as np #se importa las librerias\n",
    "import cv2 as cv\n",
    "def draw_circleandrectangle(event, x, y, flags, param): #creamos el evento\n",
    "\n",
    "    \n",
    "    if(event == cv.EVENT_LBUTTONDOWN):#condicional que significa si damos click izquierdo dibuja un circulo\n",
    "        \n",
    "       cv.circle(img, (x, y), 25, (255,200,0), -1 )\n",
    "    \n",
    "    if(event == cv.EVENT_RBUTTONDOWN):#condicional que significa si damos click derecho dibuja un rectangulo\n",
    "       cv.rectangle(img, (100,100), (x,y),(0,255,0),-1)\n",
    "       \n",
    "        \n",
    "img = np.zeros((512,512,3), np.uint8)# crea una ventana de 512x512\n",
    "\n",
    "cv.namedWindow('Dibujando Circulos y Rectangulos') #identifica el nombre de la ventana\n",
    "cv.setMouseCallback('Dibujando Circulos y Rectangulos', draw_circleandrectangle)#llama al evento en la ventana creada anteriormente\n",
    "\n",
    "while(True): #condicional de que se muestre la ventana hasta que presionemos la letra x\n",
    "    \n",
    "    cv.imshow('Dibujando Circulos y Rectangulos',img)\n",
    "    if (cv.waitKey(1) & 0xFF ==ord('x')):\n",
    "        break\n",
    "        \n",
    "cv.destroyAllWindows()"
   ]
  },
  {
   "cell_type": "code",
   "execution_count": null,
   "metadata": {},
   "outputs": [],
   "source": []
  },
  {
   "cell_type": "code",
   "execution_count": null,
   "metadata": {},
   "outputs": [],
   "source": []
  }
 ],
 "metadata": {
  "kernelspec": {
   "display_name": "Python 3",
   "language": "python",
   "name": "python3"
  },
  "language_info": {
   "codemirror_mode": {
    "name": "ipython",
    "version": 3
   },
   "file_extension": ".py",
   "mimetype": "text/x-python",
   "name": "python",
   "nbconvert_exporter": "python",
   "pygments_lexer": "ipython3",
   "version": "3.8.5"
  }
 },
 "nbformat": 4,
 "nbformat_minor": 4
}
